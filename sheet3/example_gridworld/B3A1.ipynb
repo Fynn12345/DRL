{
 "cells": [
  {
   "cell_type": "code",
   "execution_count": 23,
   "metadata": {},
   "outputs": [
    {
     "name": "stdout",
     "output_type": "stream",
     "text": [
      "Summed rewards over 10.000 episodes:  -117.0\n"
     ]
    },
    {
     "data": {
      "text/plain": [
       "(array([0, 0]), {})"
      ]
     },
     "execution_count": 23,
     "metadata": {},
     "output_type": "execute_result"
    }
   ],
   "source": [
    "\n",
    "\n",
    "import gridworlds           # import to trigger registration of the environment\n",
    "import gymnasium as gym\n",
    "import numpy as np\n",
    "\n",
    "# create instance\n",
    "env = gym.make(\"gridworld-v0\")\n",
    "env.reset()\n",
    "\n",
    "# test example\n",
    "sum_rewards = 0\n",
    "for i in range(10000):\n",
    "    _, rew, _, _, _ = env.step(env.action_space.sample())\n",
    "    sum_rewards += rew\n",
    "\n",
    "print(\"Summed rewards over 10.000 episodes: \", sum_rewards)\n",
    "env.reset()\n"
   ]
  },
  {
   "cell_type": "code",
   "execution_count": 24,
   "metadata": {},
   "outputs": [
    {
     "name": "stdout",
     "output_type": "stream",
     "text": [
      "[[[0.25 0.25 0.25 0.25]\n",
      "  [0.25 0.25 0.25 0.25]\n",
      "  [0.25 0.25 0.25 0.25]\n",
      "  [0.25 0.25 0.25 0.25]\n",
      "  [0.25 0.25 0.25 0.25]]\n",
      "\n",
      " [[0.25 0.25 0.25 0.25]\n",
      "  [0.25 0.25 0.25 0.25]\n",
      "  [0.25 0.25 0.25 0.25]\n",
      "  [0.25 0.25 0.25 0.25]\n",
      "  [0.25 0.25 0.25 0.25]]\n",
      "\n",
      " [[0.25 0.25 0.25 0.25]\n",
      "  [0.25 0.25 0.25 0.25]\n",
      "  [0.25 0.25 0.25 0.25]\n",
      "  [0.25 0.25 0.25 0.25]\n",
      "  [0.25 0.25 0.25 0.25]]\n",
      "\n",
      " [[0.25 0.25 0.25 0.25]\n",
      "  [0.25 0.25 0.25 0.25]\n",
      "  [0.25 0.25 0.25 0.25]\n",
      "  [0.25 0.25 0.25 0.25]\n",
      "  [0.25 0.25 0.25 0.25]]\n",
      "\n",
      " [[0.25 0.25 0.25 0.25]\n",
      "  [0.25 0.25 0.25 0.25]\n",
      "  [0.25 0.25 0.25 0.25]\n",
      "  [0.25 0.25 0.25 0.25]\n",
      "  [0.25 0.25 0.25 0.25]]]\n"
     ]
    }
   ],
   "source": [
    "class Policy:\n",
    "    def __init__(self, env):\n",
    "        self.policy = np.full((5, 5, 4), 0.25)\n",
    "        print(self.policy)\n",
    "\n",
    "    def act(self, state):\n",
    "        return np.random.choice(4, p=self.policy[state[0], state[1]])\n",
    "    \n",
    "    def update(self, state, action):\n",
    "        self.policy[state[0], state[1]] = np.zeros(4)\n",
    "        self.policy[state[0], state[1], action] = 1\n",
    "        \n",
    "p = Policy(env)\n"
   ]
  },
  {
   "cell_type": "code",
   "execution_count": 25,
   "metadata": {},
   "outputs": [],
   "source": [
    "UP = 0\n",
    "RIGHT = 1\n",
    "DOWN = 2\n",
    "LEFT = 3\n",
    "def step_simulation(state, action: np.integer) -> tuple[np.ndarray, float, bool, bool, dict]:\n",
    "       \n",
    "        row, col = state  # Current position\n",
    "        reward = get_reward(state, action)  # Calculate reward\n",
    "\n",
    "        # Check for teleportation conditions based on special grid positions\n",
    "        if row == 0 and col == 1:\n",
    "            row, col = [4, 1]  # Teleport from (0, 1) to (4, 1)\n",
    "        elif row == 0 and col == 3:\n",
    "            row, col = [2, 3]  # Teleport from (0, 3) to (2, 3)\n",
    "        else:\n",
    "            # Update position based on action\n",
    "            if action == UP:\n",
    "                row = max(row - 1, 0)\n",
    "            elif action == DOWN:\n",
    "                row = min(row + 1, 5 - 1)\n",
    "            elif action == RIGHT:\n",
    "                col = min(col + 1, 5 - 1)\n",
    "            elif action == LEFT:\n",
    "                col = max(col - 1, 0)\n",
    "\n",
    "        new_state = np.array([row, col])  # New position after action\n",
    "        \n",
    "\n",
    "        return new_state, reward, False, False, {}\n",
    "\n",
    "def get_reward(state: np.ndarray, action: np.integer) -> float:\n",
    "        row, col = state  # Current position\n",
    "        # Define the size of the grid and initialize the reward matrix\n",
    "        n = 5\n",
    "        reward_matrix = np.zeros([n, n])\n",
    "        reward_matrix[0, 1] = 10  # Positive reward at position (0, 1)\n",
    "        reward_matrix[0, 3] = 5  # Positive reward at position (0, 3)\n",
    "        reward = reward_matrix[row, col]  # Base reward from reward matrix\n",
    "\n",
    "        # Apply penalty if attempting to move outside borders\n",
    "        if at_border(state) and reward == 0:\n",
    "            if row == 0 and action == UP:\n",
    "                reward = -1.0\n",
    "            if row == 5 - 1 and action == DOWN:\n",
    "                reward = -1.0\n",
    "            if col == 0 and action == LEFT:\n",
    "                reward = -1.0\n",
    "            if col == 5 - 1 and action == RIGHT:\n",
    "                reward = -1.0\n",
    "\n",
    "        return reward\n",
    "\n",
    "def at_border(state) -> bool:\n",
    "    # Check if the agent is at the border of the grid\n",
    "    row, col = state\n",
    "    return row == 0 or row == 5 - 1 or col == 0 or col == 5 - 1\n",
    "\n"
   ]
  },
  {
   "cell_type": "code",
   "execution_count": 26,
   "metadata": {},
   "outputs": [],
   "source": [
    "MAX_RANGE = 1000\n",
    "class PolicyEvaluation:\n",
    "    def __init__(self, env, policy, gamma=0.9, theta=0.0001):\n",
    "        self.env = env\n",
    "        self.policy = policy\n",
    "        self.gamma = gamma\n",
    "        self.theta = theta\n",
    "      \n",
    "        \n",
    "    def evaluate(self):\n",
    "        delta = 1\n",
    "        for j in range(MAX_RANGE):\n",
    "            V = np.zeros((5, 5))\n",
    "            if delta < self.theta:\n",
    "                return V\n",
    "            delta = 0\n",
    "            for x in range(5):\n",
    "                for y in range(5):\n",
    "                    state = (x, y)\n",
    "                    v=V[x,y]\n",
    "                    for i in range(self.policy.policy.shape[2]):\n",
    "                        next_state, reward, _, _, _  = step_simulation(state, i)\n",
    "                        V[x, y] += self.policy.policy[x, y, i] * (reward + self.gamma * V[next_state[0], next_state[1]])\n",
    "                    delta=max(delta, abs(v-V[x,y]))\n",
    "        return V\n",
    "    "
   ]
  },
  {
   "cell_type": "code",
   "execution_count": 27,
   "metadata": {},
   "outputs": [
    {
     "name": "stdout",
     "output_type": "stream",
     "text": [
      "[[-0.55625    10.          2.          5.          0.56875   ]\n",
      " [-0.40331641  2.15925381  0.93583211  1.33556222  0.20726322]\n",
      " [-0.36116408  0.40457019  0.30159052  0.36835937 -0.10999222]\n",
      " [-0.34954585  0.01238048  0.07064347  0.09877564 -0.25809209]\n",
      " [-0.67427088 -0.39829858 -0.32014607 -0.29480783 -0.70972414]]\n"
     ]
    }
   ],
   "source": [
    "Evaluation = PolicyEvaluation(env, p)\n",
    "print(Evaluation.evaluate())"
   ]
  }
 ],
 "metadata": {
  "kernelspec": {
   "display_name": "Python 3",
   "language": "python",
   "name": "python3"
  },
  "language_info": {
   "codemirror_mode": {
    "name": "ipython",
    "version": 3
   },
   "file_extension": ".py",
   "mimetype": "text/x-python",
   "name": "python",
   "nbconvert_exporter": "python",
   "pygments_lexer": "ipython3",
   "version": "3.11.4"
  }
 },
 "nbformat": 4,
 "nbformat_minor": 2
}
