{
 "cells": [
  {
   "cell_type": "code",
   "execution_count": 16,
   "metadata": {},
   "outputs": [
    {
     "name": "stdout",
     "output_type": "stream",
     "text": [
      "Summed rewards over 10.000 episodes:  -77.0\n"
     ]
    },
    {
     "data": {
      "text/plain": [
       "(array([0, 0]), {})"
      ]
     },
     "execution_count": 16,
     "metadata": {},
     "output_type": "execute_result"
    }
   ],
   "source": [
    "\n",
    "\n",
    "import gridworlds           # import to trigger registration of the environment\n",
    "import gymnasium as gym\n",
    "import numpy as np\n",
    "\n",
    "# create instance\n",
    "env = gym.make(\"gridworld-v0\")\n",
    "env.reset()\n",
    "\n",
    "# test example\n",
    "sum_rewards = 0\n",
    "for i in range(10000):\n",
    "    _, rew, _, _, _ = env.step(env.action_space.sample())\n",
    "    sum_rewards += rew\n",
    "\n",
    "print(\"Summed rewards over 10.000 episodes: \", sum_rewards)\n",
    "env.reset()\n"
   ]
  },
  {
   "cell_type": "code",
   "execution_count": 17,
   "metadata": {},
   "outputs": [
    {
     "name": "stdout",
     "output_type": "stream",
     "text": [
      "[[[0.25 0.25 0.25 0.25]\n",
      "  [0.25 0.25 0.25 0.25]\n",
      "  [0.25 0.25 0.25 0.25]\n",
      "  [0.25 0.25 0.25 0.25]\n",
      "  [0.25 0.25 0.25 0.25]]\n",
      "\n",
      " [[0.25 0.25 0.25 0.25]\n",
      "  [0.25 0.25 0.25 0.25]\n",
      "  [0.25 0.25 0.25 0.25]\n",
      "  [0.25 0.25 0.25 0.25]\n",
      "  [0.25 0.25 0.25 0.25]]\n",
      "\n",
      " [[0.25 0.25 0.25 0.25]\n",
      "  [0.25 0.25 0.25 0.25]\n",
      "  [0.25 0.25 0.25 0.25]\n",
      "  [0.25 0.25 0.25 0.25]\n",
      "  [0.25 0.25 0.25 0.25]]\n",
      "\n",
      " [[0.25 0.25 0.25 0.25]\n",
      "  [0.25 0.25 0.25 0.25]\n",
      "  [0.25 0.25 0.25 0.25]\n",
      "  [0.25 0.25 0.25 0.25]\n",
      "  [0.25 0.25 0.25 0.25]]\n",
      "\n",
      " [[0.25 0.25 0.25 0.25]\n",
      "  [0.25 0.25 0.25 0.25]\n",
      "  [0.25 0.25 0.25 0.25]\n",
      "  [0.25 0.25 0.25 0.25]\n",
      "  [0.25 0.25 0.25 0.25]]]\n"
     ]
    }
   ],
   "source": [
    "class Policy:\n",
    "    def __init__(self, env):\n",
    "        self.policy = np.full((5, 5, 4), 0.25)\n",
    "        print(self.policy)\n",
    "\n",
    "    def act(self, state):\n",
    "        return np.random.choice(4, p=self.policy[state[0], state[1]])\n",
    "    \n",
    "    def update(self, state, action):\n",
    "        self.policy[state[0], state[1]] = np.zeros(4)\n",
    "        self.policy[state[0], state[1], action] = 1\n",
    "        \n",
    "p = Policy(env)\n"
   ]
  },
  {
   "cell_type": "code",
   "execution_count": 18,
   "metadata": {},
   "outputs": [],
   "source": [
    "UP = 0\n",
    "RIGHT = 1\n",
    "DOWN = 2\n",
    "LEFT = 3\n",
    "def step_simulation(state, action: np.integer) -> tuple[np.ndarray, float, bool, bool, dict]:\n",
    "       \n",
    "        row, col = state  # Current position\n",
    "        reward = get_reward(state, action)  # Calculate reward\n",
    "\n",
    "        # Check for teleportation conditions based on special grid positions\n",
    "        if row == 0 and col == 1:\n",
    "            row, col = [4, 1]  # Teleport from (0, 1) to (4, 1)\n",
    "        elif row == 0 and col == 3:\n",
    "            row, col = [2, 3]  # Teleport from (0, 3) to (2, 3)\n",
    "        else:\n",
    "            # Update position based on action\n",
    "            if action == UP:\n",
    "                row = max(row - 1, 0)\n",
    "            elif action == DOWN:\n",
    "                row = min(row + 1, env.size - 1)\n",
    "            elif action == RIGHT:\n",
    "                col = min(col + 1, env.size - 1)\n",
    "            elif action == LEFT:\n",
    "                col = max(col - 1, 0)\n",
    "\n",
    "        new_state = np.array([row, col])  # New position after action\n",
    "        \n",
    "\n",
    "        return new_state, reward, env.done, False, {}\n",
    "\n",
    "def get_reward(state: np.ndarray, action: np.integer) -> float:\n",
    "        row, col = state  # Current position\n",
    "        reward = env.reward_matrix[row, col]  # Base reward from reward matrix\n",
    "\n",
    "        # Apply penalty if attempting to move outside borders\n",
    "        if at_border() and reward == 0:\n",
    "            if row == 0 and action == UP:\n",
    "                reward = -1.0\n",
    "            if row == env.size - 1 and action == DOWN:\n",
    "                reward = -1.0\n",
    "            if col == 0 and action == LEFT:\n",
    "                reward = -1.0\n",
    "            if col == env.size - 1 and action == RIGHT:\n",
    "                reward = -1.0\n",
    "\n",
    "        return reward\n",
    "\n",
    "def at_border() -> bool:\n",
    "    # Check if the agent is at the border of the grid\n",
    "    row, col = env.state\n",
    "    return row == 0 or row == env.size - 1 or col == 0 or col == env.size - 1\n",
    "\n"
   ]
  },
  {
   "cell_type": "code",
   "execution_count": 19,
   "metadata": {},
   "outputs": [],
   "source": [
    "MAX_RANGE = 1000\n",
    "class PolicyEvaluation:\n",
    "    def __init__(self, env, policy, gamma=0.9, theta=0.0001):\n",
    "        self.env = env\n",
    "        self.policy = policy\n",
    "        self.gamma = gamma\n",
    "        self.theta = theta\n",
    "      \n",
    "        \n",
    "    def evaluate(self):\n",
    "        delta = 1\n",
    "        for j in range(MAX_RANGE):\n",
    "            V = np.zeros((5, 5))\n",
    "            if delta < self.theta:\n",
    "                return V\n",
    "            delta = 0\n",
    "            for x in range(5):\n",
    "                for y in range(5):\n",
    "                    state = (x, y)\n",
    "                    v=V[x,y]\n",
    "                    for i in range(self.policy.policy.shape[2]):\n",
    "                        next_state, reward, _, _ = step_simulation(state, i)\n",
    "                        V[x, y] += self.policy.policy[x, y, i] * (reward + self.gamma * V[next_state[0], next_state[1]])\n",
    "                    delta=max(delta, abs(v-V[x,y]))\n",
    "        return V\n",
    "    "
   ]
  },
  {
   "cell_type": "code",
   "execution_count": 20,
   "metadata": {},
   "outputs": [
    {
     "ename": "AttributeError",
     "evalue": "'OrderEnforcing' object has no attribute 'reward_matrix'",
     "output_type": "error",
     "traceback": [
      "\u001b[1;31m---------------------------------------------------------------------------\u001b[0m",
      "\u001b[1;31mAttributeError\u001b[0m                            Traceback (most recent call last)",
      "Cell \u001b[1;32mIn[20], line 2\u001b[0m\n\u001b[0;32m      1\u001b[0m Evaluation \u001b[38;5;241m=\u001b[39m PolicyEvaluation(env, p)\n\u001b[1;32m----> 2\u001b[0m \u001b[38;5;28mprint\u001b[39m(\u001b[43mEvaluation\u001b[49m\u001b[38;5;241;43m.\u001b[39;49m\u001b[43mevaluate\u001b[49m\u001b[43m(\u001b[49m\u001b[43m)\u001b[49m)\n",
      "Cell \u001b[1;32mIn[19], line 22\u001b[0m, in \u001b[0;36mPolicyEvaluation.evaluate\u001b[1;34m(self)\u001b[0m\n\u001b[0;32m     20\u001b[0m v\u001b[38;5;241m=\u001b[39mV[x,y]\n\u001b[0;32m     21\u001b[0m \u001b[38;5;28;01mfor\u001b[39;00m i \u001b[38;5;129;01min\u001b[39;00m \u001b[38;5;28mrange\u001b[39m(\u001b[38;5;28mself\u001b[39m\u001b[38;5;241m.\u001b[39mpolicy\u001b[38;5;241m.\u001b[39mpolicy\u001b[38;5;241m.\u001b[39mshape[\u001b[38;5;241m2\u001b[39m]):\n\u001b[1;32m---> 22\u001b[0m     next_state, reward, _, _ \u001b[38;5;241m=\u001b[39m \u001b[43mstep_simulation\u001b[49m\u001b[43m(\u001b[49m\u001b[43mstate\u001b[49m\u001b[43m,\u001b[49m\u001b[43m \u001b[49m\u001b[43mi\u001b[49m\u001b[43m)\u001b[49m\n\u001b[0;32m     23\u001b[0m     V[x, y] \u001b[38;5;241m+\u001b[39m\u001b[38;5;241m=\u001b[39m \u001b[38;5;28mself\u001b[39m\u001b[38;5;241m.\u001b[39mpolicy\u001b[38;5;241m.\u001b[39mpolicy[x, y, i] \u001b[38;5;241m*\u001b[39m (reward \u001b[38;5;241m+\u001b[39m \u001b[38;5;28mself\u001b[39m\u001b[38;5;241m.\u001b[39mgamma \u001b[38;5;241m*\u001b[39m V[next_state[\u001b[38;5;241m0\u001b[39m], next_state[\u001b[38;5;241m1\u001b[39m]])\n\u001b[0;32m     24\u001b[0m delta\u001b[38;5;241m=\u001b[39m\u001b[38;5;28mmax\u001b[39m(delta, \u001b[38;5;28mabs\u001b[39m(v\u001b[38;5;241m-\u001b[39mV[x,y]))\n",
      "Cell \u001b[1;32mIn[18], line 8\u001b[0m, in \u001b[0;36mstep_simulation\u001b[1;34m(state, action)\u001b[0m\n\u001b[0;32m      5\u001b[0m \u001b[38;5;28;01mdef\u001b[39;00m \u001b[38;5;21mstep_simulation\u001b[39m(state, action: np\u001b[38;5;241m.\u001b[39minteger) \u001b[38;5;241m-\u001b[39m\u001b[38;5;241m>\u001b[39m \u001b[38;5;28mtuple\u001b[39m[np\u001b[38;5;241m.\u001b[39mndarray, \u001b[38;5;28mfloat\u001b[39m, \u001b[38;5;28mbool\u001b[39m, \u001b[38;5;28mbool\u001b[39m, \u001b[38;5;28mdict\u001b[39m]:\n\u001b[0;32m      7\u001b[0m         row, col \u001b[38;5;241m=\u001b[39m state  \u001b[38;5;66;03m# Current position\u001b[39;00m\n\u001b[1;32m----> 8\u001b[0m         reward \u001b[38;5;241m=\u001b[39m \u001b[43mget_reward\u001b[49m\u001b[43m(\u001b[49m\u001b[43mstate\u001b[49m\u001b[43m,\u001b[49m\u001b[43m \u001b[49m\u001b[43maction\u001b[49m\u001b[43m)\u001b[49m  \u001b[38;5;66;03m# Calculate reward\u001b[39;00m\n\u001b[0;32m     10\u001b[0m         \u001b[38;5;66;03m# Check for teleportation conditions based on special grid positions\u001b[39;00m\n\u001b[0;32m     11\u001b[0m         \u001b[38;5;28;01mif\u001b[39;00m row \u001b[38;5;241m==\u001b[39m \u001b[38;5;241m0\u001b[39m \u001b[38;5;129;01mand\u001b[39;00m col \u001b[38;5;241m==\u001b[39m \u001b[38;5;241m1\u001b[39m:\n",
      "Cell \u001b[1;32mIn[18], line 33\u001b[0m, in \u001b[0;36mget_reward\u001b[1;34m(state, action)\u001b[0m\n\u001b[0;32m     31\u001b[0m \u001b[38;5;28;01mdef\u001b[39;00m \u001b[38;5;21mget_reward\u001b[39m(state: np\u001b[38;5;241m.\u001b[39mndarray, action: np\u001b[38;5;241m.\u001b[39minteger) \u001b[38;5;241m-\u001b[39m\u001b[38;5;241m>\u001b[39m \u001b[38;5;28mfloat\u001b[39m:\n\u001b[0;32m     32\u001b[0m         row, col \u001b[38;5;241m=\u001b[39m state  \u001b[38;5;66;03m# Current position\u001b[39;00m\n\u001b[1;32m---> 33\u001b[0m         reward \u001b[38;5;241m=\u001b[39m \u001b[43menv\u001b[49m\u001b[38;5;241;43m.\u001b[39;49m\u001b[43mreward_matrix\u001b[49m[row, col]  \u001b[38;5;66;03m# Base reward from reward matrix\u001b[39;00m\n\u001b[0;32m     35\u001b[0m         \u001b[38;5;66;03m# Apply penalty if attempting to move outside borders\u001b[39;00m\n\u001b[0;32m     36\u001b[0m         \u001b[38;5;28;01mif\u001b[39;00m at_border() \u001b[38;5;129;01mand\u001b[39;00m reward \u001b[38;5;241m==\u001b[39m \u001b[38;5;241m0\u001b[39m:\n",
      "\u001b[1;31mAttributeError\u001b[0m: 'OrderEnforcing' object has no attribute 'reward_matrix'"
     ]
    }
   ],
   "source": [
    "Evaluation = PolicyEvaluation(env, p)\n",
    "print(Evaluation.evaluate())"
   ]
  }
 ],
 "metadata": {
  "kernelspec": {
   "display_name": "Python 3",
   "language": "python",
   "name": "python3"
  },
  "language_info": {
   "codemirror_mode": {
    "name": "ipython",
    "version": 3
   },
   "file_extension": ".py",
   "mimetype": "text/x-python",
   "name": "python",
   "nbconvert_exporter": "python",
   "pygments_lexer": "ipython3",
   "version": "3.13.0"
  }
 },
 "nbformat": 4,
 "nbformat_minor": 2
}
