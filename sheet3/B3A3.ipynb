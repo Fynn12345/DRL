{
 "cells": [
  {
   "cell_type": "code",
   "execution_count": 1,
   "metadata": {},
   "outputs": [],
   "source": [
    "import gymnasium as gym\n",
    "import numpy as np\n",
    "import matplotlib.pyplot as plt \n",
    "env=gym.make(\"FrozenLake-v1\", desc=None, map_name=\"4x4\",is_slippery=True)"
   ]
  },
  {
   "cell_type": "code",
   "execution_count": 2,
   "metadata": {},
   "outputs": [],
   "source": [
    "class Policy:\n",
    "    def __init__(self,initial_policy=None,gamma=0.9):\n",
    "        self.gamma=gamma\n",
    "        if initial_policy ==None:\n",
    "           self.policy=np.full((16,4),0.25)\n",
    "     \n",
    "        else:\n",
    "            self.policy=initial_policy\n",
    "       \n",
    "        self.N_detailed=np.zeros((16,4,16))\n",
    "        self.Q=np.zeros((16,4))\n",
    "        self.v=np.zeros((16))\n",
    "        self.Returns=[[] for i in range(16)]\n",
    "        self.Rewards_cum=np.zeros((16,4))\n",
    "        self.pos_dict={i*4+j: [i,j] for i in range(4) for j in range(4)}\n",
    "\n",
    "    def act(self, state):\n",
    "        return np.random.choice(4, p=self.policy[state])"
   ]
  },
  {
   "cell_type": "code",
   "execution_count": 3,
   "metadata": {},
   "outputs": [],
   "source": [
    "def td0(env, policy, num_episodes=1000, alpha=0.1):\n",
    "    V = np.zeros(16)\n",
    "    for i in range(num_episodes):\n",
    "        state = env.reset()\n",
    "        state = state[0]    \n",
    "        done = False\n",
    "        while not done:\n",
    "            action = policy.act(state)\n",
    "            next_state, reward, done, _,_ = env.step(action)\n",
    "            V[state] += alpha * (reward + policy.gamma * V[next_state] - V[state])\n",
    "            state = next_state\n",
    "    return V\n",
    "\n",
    "def plot(V):\n",
    "    V = np.round(V, 5).reshape(4, 4)\n",
    "    fig, ax = plt.subplots()\n",
    "    cax = ax.matshow(V, interpolation='nearest')\n",
    "    fig.colorbar(cax)\n",
    "\n",
    "    for (i, j), val in np.ndenumerate(V):\n",
    "        ax.text(j, i, f'{val:.5f}', ha='center', va='center')\n",
    "\n",
    "    plt.show()"
   ]
  },
  {
   "cell_type": "code",
   "execution_count": null,
   "metadata": {},
   "outputs": [
    {
     "data": {
      "image/png": "[encoded data removed]",
      "text/plain": [
       "<Figure size 640x480 with 2 Axes>"
      ]
     },
     "metadata": {},
     "output_type": "display_data"
    }
   ],
   "source": [
    "V = td0(env, Policy(), num_episodes=1000)\n",
    "plot(V)\n"
   ]
  },
  {
   "cell_type": "markdown",
   "metadata": {},
   "source": [
    "## Differences MC - TD\n",
    "Monte-Carlo learning works by traversing an MDP episodically and once a terminal state is reached, the state-values are updated based on the final return. MCL is model-free, meaning it does not need knowledge of the underlying transition probabilities or rewards of the MDP. This method makes no use of bootstrapping, i.e. making use of estimates of values instead of the actual values from the result.   \n",
    "\n",
    "Temporal Difference is also model-free and episodic, however it updates every step instead of every episode. It works by performing an action and calculating the state-value estimate based on the reward and difference from previous experiences. This method makes use of bootstrapping, meaning that bias gets introduced to the system as all updates depend on an estimate. \n",
    "\n",
    "## Analysis\n",
    "Compared to MC, TD learning offers some advantages:\n",
    "* Higher Sampling Efficiency, as each step is used for the updates\n",
    "* Much higher adaptability, if the reward for a state would change, backpropagation ensures that TD will eventually converge on the new solution, while MC takes longer as each episode only has one update.\n"
   ]
  }
 ],
 "metadata": {
  "kernelspec": {
   "display_name": "Python 3",
   "language": "python",
   "name": "python3"
  },
  "language_info": {
   "codemirror_mode": {
    "name": "ipython",
    "version": 3
   },
   "file_extension": ".py",
   "mimetype": "text/x-python",
   "name": "python",
   "nbconvert_exporter": "python",
   "pygments_lexer": "ipython3",
   "version": "3.11.4"
  }
 },
 "nbformat": 4,
 "nbformat_minor": 2
}
